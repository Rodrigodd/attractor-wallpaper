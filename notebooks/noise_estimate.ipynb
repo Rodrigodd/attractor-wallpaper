{
 "cells": [
  {
   "cell_type": "markdown",
   "metadata": {},
   "source": [
    "# Noise estimation\n",
    "\n",
    "There is a chaotic iterative process, given by $x_{n+1} = f(x_n)$, that produces a infinite series of points $S$. This series does not diverge or converge, and is roughly bound to a region of space.\n",
    "\n",
    "I want to estimate the distribuition of all points in $S$, using a histogram. For that, I compute the first $\\Delta N$ points of the series, and compute a histogram $X_0$ with equaly sized bins. Then I compute more $\\Delta N$ points, and add to the previous histogram $X_0$ to obtain $X_1$.\n",
    "\n",
    "The real distribution should be given by\n",
    "\n",
    "$$\n",
    "\\hat{X}_{\\infty} = \\lim_{{n \\to \\infty}} \\frac{{X_n}}{{n \\cdot \\Delta N}}\n",
    "$$\n",
    "\n",
    "Or simplified to $\\hat{X}_{\\infty} = \\lim_{{n \\to \\infty}} \\hat{X_n}$, where $\\hat{X_n} = \\frac{{X_n}}{{N}}$ is the normalized histogram, and $N = n \\cdot \\Delta N$ the total number of points.\n",
    "\n",
    "Now, I want to estimate the convergence error of a histogram $\\hat{X}_n$, that is, estimate $\\hat{X}_{\\infty} - \\hat{X}_n$. For this, we can first find the diference between two consecutive histograms:\n",
    "\n",
    "$$\n",
    "\\begin{align*}\n",
    "\\Delta \\hat{X}_{n+1} &= {\\hat{X}_{n+1}} - \\hat{X}_n \\\\\n",
    "&= \\frac{X_n + {\\Delta X}_{n+1}}{N + \\Delta N} - \\frac{X_n}{N} \\\\\n",
    "&= \\frac{(X_n + {\\Delta X}_{n+1})N - X_n(N + \\Delta N)}{N(N + \\Delta N)} \\\\\n",
    "&= \\frac{X_nN + {\\Delta X}_{n+1}N - X_nN - X_n\\Delta N}{N(N + \\Delta N)} \\\\\n",
    "&= \\frac{{\\Delta X}_{n+1}N - X_n\\Delta N}{N(N + \\Delta N)} \\\\\n",
    "&= \\frac{{\\Delta X}_{n+1}}{N + \\Delta N} - \\frac{X_n\\Delta N}{N^2 + N\\Delta N} \\quad \\text{doing a first order approximation} \\\\\n",
    "&\\approx \\frac{{\\Delta X}_{n+1}}{N + \\Delta N} \\\\\n",
    "\\end{align*}\n",
    "$$\n",
    "\n",
    "$$\n",
    "\\Delta \\hat{X}_{n} \\approx \\frac{{\\Delta X}_n}{N}\n",
    "$$\n",
    "\n",
    "Based on this first order approximation, we can say\n",
    "\n",
    "$$\n",
    "\\hat{X}_{\\infty} - \\hat{X}_n = \\sum_{{k=n+1}}^{\\infty} {\\Delta \\hat{X}}_k \\approx \\sum_{{k=n+1}}^{\\infty} \\frac{{\\Delta X}_k}{\\Delta N \\cdot k}\n",
    "$$\n",
    "\n",
    "We can say that for a big enough value of $\\Delta N$, that\n",
    "\n",
    "$$\n",
    "\\frac{{\\Delta X}_n}{\\Delta N} \\approx \\frac{X_m}{\\Delta N \\cdot m}, \\text{for any $n$ and $m$ pairs}\n",
    "$$\n",
    "\n",
    "From that:\n",
    "\n",
    "\n",
    "$$\n",
    "\\begin{align*}\n",
    "\\hat{X}_{\\infty} - \\hat{X}_n &\\approx \\sum_{{k=n+1}}^{\\infty} \\frac{{\\Delta X}_k}{\\Delta N \\cdot k} \\\\\n",
    "&= \\sum_{{k=n+1}}^{\\infty} \\frac{{\\Delta X}_k}{\\Delta N} \\frac{1}{k} \\\\\n",
    "&\\approx \\sum_{{k=n+1}}^{\\infty} \\frac{X_n}{N} \\frac{1}{k} \\\\\n",
    "&= \\frac{X_n}{N}  \\sum_{{k=n+1}}^{\\infty} \\frac{1}{k} \\\\\n",
    "\\end{align*}\n",
    "$$\n",
    "\n",
    "Wait. That diverges!\n",
    "\n",
    "Let's remove some approximations:\n",
    "\n",
    "$$\n",
    "\\begin{align*}\n",
    "\\hat{X}_{\\infty} - \\hat{X}_n &= \\sum_{{k=n+1}}^{\\infty} \\frac{{\\Delta X}_{k}}{\\Delta N \\cdot (k - 1)} - \\frac{X_{k-1}\\Delta N}{(\\Delta N \\cdot (k - 1))^2 + (\\Delta N \\cdot (k - 1))\\Delta N} \\\\\n",
    "&= \\sum_{{k=n+1}}^{\\infty} \\frac{{\\Delta X}_{k}}{\\Delta N \\cdot k} - \\frac{X_{k-1}}{\\Delta N \\cdot (k^2 - k)} \\\\\n",
    "&= \\sum_{{k=n+1}}^{\\infty} \\frac{{\\Delta X}_{k}}{\\Delta N} \\frac{1}{k} - \\frac{X_{k-1}}{\\Delta N \\cdot (k - 1)} \\frac{1}{k} \\\\\n",
    "&\\approx \\sum_{{k=n+1}}^{\\infty} \\Delta \\hat{X} \\frac{1}{k} - \\Delta \\hat{X} \\frac{1}{k} \\\\\n",
    "&=  \\sum_{{k=n+1}}^{\\infty} 0 \\\\\n",
    "\\end{align*}\n",
    "$$\n",
    "\n",
    "Now it converges to zero. Cool."
   ]
  },
  {
   "cell_type": "code",
   "execution_count": 16,
   "metadata": {},
   "outputs": [
    {
     "data": {
      "text/latex": [
       "$\\displaystyle \\frac{N X_{0} - Xn deltaN}{N \\left(N + deltaN\\right)}$"
      ],
      "text/plain": [
       "(N*X0 - Xn*deltaN)/(N*(N + deltaN))"
      ]
     },
     "execution_count": 16,
     "metadata": {},
     "output_type": "execute_result"
    }
   ],
   "source": [
    "import sympy as sym\n",
    "# Define the symbols\n",
    "Xn, X0, N, deltaN = sym.symbols('Xn X0 N deltaN')\n",
    "\n",
    "# Build the expression\n",
    "expression = (Xn + X0) / (N + deltaN) - Xn / N\n",
    "\n",
    "sym.simplify(expression)"
   ]
  }
 ],
 "metadata": {
  "kernelspec": {
   "display_name": "Python 3",
   "language": "python",
   "name": "python3"
  },
  "language_info": {
   "codemirror_mode": {
    "name": "ipython",
    "version": 3
   },
   "file_extension": ".py",
   "mimetype": "text/x-python",
   "name": "python",
   "nbconvert_exporter": "python",
   "pygments_lexer": "ipython3",
   "version": "3.11.5"
  },
  "orig_nbformat": 4
 },
 "nbformat": 4,
 "nbformat_minor": 2
}
